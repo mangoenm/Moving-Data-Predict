{
 "cells": [
  {
   "cell_type": "code",
   "execution_count": 3,
   "id": "c5e7b126",
   "metadata": {},
   "outputs": [
    {
     "name": "stdout",
     "output_type": "stream",
     "text": [
      "Connection to PostgreSQL established successfully.\n",
      "INSERT INTO historical_stocks_data VALUES(%s, %s, %s, %s, %s, %s, %s, %s, %s);\n",
      "\n",
      "\n",
      "\n",
      "Data inserted from CSV to PostgreSQL successfully.\n"
     ]
    },
    {
     "data": {
      "text/plain": [
       "<connection object at 0x00000154E28787B0; dsn: 'user=mangoenm password=xxx dbname=postgres host=de-mbd-predict-naomi-mangoejane-rds-instance.cyg5kxo7cs9q.eu-west-1.rds.amazonaws.com port=5432', closed: 0>"
      ]
     },
     "execution_count": 3,
     "metadata": {},
     "output_type": "execute_result"
    }
   ],
   "source": [
    "import psycopg2\n",
    "import csv\n",
    "\n",
    "def upload_to_postgres(**kwargs):\n",
    "    \"\"\"\n",
    "    Inserts data from a CSV file into a PostgreSQL database using an SQL script.\n",
    "\n",
    "    Args:\n",
    "        csv_file (str): The path to the CSV file.\n",
    "        dbname (str): The name of the PostgreSQL database.\n",
    "        user (str): The username for database authentication.\n",
    "        password (str): The password for database authentication.\n",
    "        host (str, optional): The hostname of the PostgreSQL server. Defaults to 'localhost'.\n",
    "        port (str or int, optional): The port number of the PostgreSQL server. Defaults to '5432'.\n",
    "        sql_script (str, optional): The path to the SQL script file containing the INSERT query template. Defaults to None.\n",
    "\n",
    "    Returns:\n",
    "        None\n",
    "    \"\"\"\n",
    "    \n",
    "    try:\n",
    "        # Establish a connection to the PostgreSQL database\n",
    "        conn = psycopg2.connect(\n",
    "            dbname=kwargs.get('dbname'),\n",
    "            user=kwargs.get('user'),\n",
    "            password=kwargs.get('password'),\n",
    "            host=kwargs.get('host', 'localhost'),\n",
    "            port=kwargs.get('port', 5432)\n",
    "        )\n",
    "\n",
    "        print(\"Connection to PostgreSQL established successfully.\")\n",
    "\n",
    "        # Read the INSERT query template from the SQL script file\n",
    "        with open(kwargs['sql_script'], 'r') as script_file:\n",
    "            insert_query_template = script_file.read()\n",
    "            print(insert_query_template)\n",
    "            \n",
    "        # Create a cursor object using the connection\n",
    "        cursor = conn.cursor()\n",
    "                \n",
    "        with open(kwargs['csv_file'], 'r') as file:\n",
    "            reader = csv.reader(file)\n",
    "            next(reader)\n",
    "            for stock, pair in enumerate(reader):\n",
    "                # Extract values from each row\n",
    "                \n",
    "                cursor.execute(insert_query_template, pair)\n",
    "                if stock > 10:\n",
    "                    break\n",
    "\n",
    "        # Commit the transaction\n",
    "        conn.commit()\n",
    "\n",
    "        print(\"Data inserted from CSV to PostgreSQL successfully.\")\n",
    "        \n",
    "        return conn\n",
    "        # Close cursor and connection\n",
    "        cursor.close()\n",
    "        conn.close()\n",
    "\n",
    "    \n",
    "    except Exception as e:\n",
    "        print(f\"Error: {e}\")\n",
    "\n",
    "    return \"CSV Uploaded to postgres database\"\n",
    "\n",
    "# Example usage:\n",
    "kwargs = {\n",
    "'dbname': 'postgres',\n",
    "'user': 'your_username',\n",
    "'password': 'your_password',\n",
    "'host': 'your_host.eu-west-1.rds.amazonaws.com', # Provide the hostname of your RDS instance\n",
    "'port': '5432',\n",
    "'sql_script': 'C:/Users/Naomi/Desktop/data/Scripts/insert_data.sql',\n",
    "'csv_file': 'C:/Users/Naomi/Desktop/data/Output/historical_stock_data.csv'\n",
    "}\n",
    "\n",
    "upload_to_postgres(**kwargs)"
   ]
  },
  {
   "cell_type": "code",
   "execution_count": null,
   "id": "71eccb19",
   "metadata": {},
   "outputs": [],
   "source": []
  }
 ],
 "metadata": {
  "kernelspec": {
   "display_name": "Python 3 (ipykernel)",
   "language": "python",
   "name": "python3"
  },
  "language_info": {
   "codemirror_mode": {
    "name": "ipython",
    "version": 3
   },
   "file_extension": ".py",
   "mimetype": "text/x-python",
   "name": "python",
   "nbconvert_exporter": "python",
   "pygments_lexer": "ipython3",
   "version": "3.10.9"
  }
 },
 "nbformat": 4,
 "nbformat_minor": 5
}
